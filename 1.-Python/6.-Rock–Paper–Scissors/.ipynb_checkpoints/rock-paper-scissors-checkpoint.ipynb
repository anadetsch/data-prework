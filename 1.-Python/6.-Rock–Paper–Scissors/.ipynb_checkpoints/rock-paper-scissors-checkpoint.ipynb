{
 "cells": [
  {
   "cell_type": "markdown",
   "metadata": {},
   "source": [
    "<img src=\"https://bit.ly/2VnXWr2\" width=\"100\" align=\"left\">"
   ]
  },
  {
   "cell_type": "markdown",
   "metadata": {},
   "source": [
    "# Rock, Paper & Scissors\n",
    "\n",
    "Let's play the famous game against our computer. You can check the rules [here](https://en.wikipedia.org/wiki/Rock%E2%80%93paper%E2%80%93scissors). \n",
    "\n",
    "## Task\n",
    "Create a program that imitates the playability of the well known game of rock, paper, scissors. Follow the guidelines provided.\n",
    "\n",
    "## Tools\n",
    "1. Loop: **for/while**\n",
    "2. Functions: **input(), print()...**\n",
    "3. Conditional statements: **if, elif, else**\n",
    "4. Definition of functions. Modular programming\n",
    "5. Import modules\n",
    "\n",
    "**To solve this challenge, the use of functions is recommended.**\n",
    "\n",
    "#### 1. Import the choice function of the random module."
   ]
  },
  {
   "cell_type": "code",
   "execution_count": null,
   "metadata": {},
   "outputs": [],
   "source": [
    "from random import choice\n"
   ]
  },
  {
   "cell_type": "markdown",
   "metadata": {},
   "source": [
    "#### 2. Create a list that includes the 3 possible gesture options of the game: 'rock', 'paper' or 'scissors'. Store the list in a variable called `gestures`."
   ]
  },
  {
   "cell_type": "code",
   "execution_count": null,
   "metadata": {},
   "outputs": [],
   "source": [
    "gestures = [\"rock\", \"paper\", \"scissors\"]\n"
   ]
  },
  {
   "cell_type": "markdown",
   "metadata": {},
   "source": [
    "#### 3. Create a variable called `n_rounds` to store the maximum number of rounds to play in a game. \n",
    "Remember that the number of rounds must be odd: 1, 3, 5, ..."
   ]
  },
  {
   "cell_type": "code",
   "execution_count": null,
   "metadata": {},
   "outputs": [],
   "source": [
    "n_rounds = int(input(\"How many rounds do you want to play? Please enter an odd number: \"))\n",
    "if n_rounds % 2 == 0:\n",
    "    n_rounds = int(input(\"Please enter an odd number: \"))"
   ]
  },
  {
   "cell_type": "markdown",
   "metadata": {},
   "source": [
    "#### 4. Create a variable called `rounds_to_win` to store the number of rounds that a player must win to win the game.\n",
    "**Hint**: the value stored in `rounds_to_win` depends on the value of `n_rounds`. "
   ]
  },
  {
   "cell_type": "code",
   "execution_count": null,
   "metadata": {},
   "outputs": [],
   "source": [
    "rounds_to_win = n_round // 2 + 1"
   ]
  },
  {
   "cell_type": "markdown",
   "metadata": {},
   "source": [
    "#### 5. Create two variables to store the number of rounds that the computer and the player have won. Call these variables `cpu_score` and `player_score`."
   ]
  },
  {
   "cell_type": "code",
   "execution_count": null,
   "metadata": {},
   "outputs": [],
   "source": [
    "cpu_score = 0\n",
    "player_score = 0"
   ]
  },
  {
   "cell_type": "markdown",
   "metadata": {},
   "source": [
    "#### 6. Define a function that randomly returns one of the 3 gesture options.\n",
    "You will use this function to simulate the gesture choice of the computer. "
   ]
  },
  {
   "cell_type": "code",
   "execution_count": 12,
   "metadata": {},
   "outputs": [
    {
     "name": "stdout",
     "output_type": "stream",
     "text": [
      "scissors\n"
     ]
    }
   ],
   "source": [
    "def cpu_move():\n",
    "    global cpu\n",
    "    cpu = choice(gestures)\n",
    "cpu_move()\n"
   ]
  },
  {
   "cell_type": "markdown",
   "metadata": {},
   "source": [
    "#### 7. Define a function that asks the player which is the gesture he or she wants to show: 'rock', 'paper' or 'scissors'.\n",
    "The player should only be allowed to choose one of the 3 gesture options. If the player's choice is not rock, paper or scissors, keep asking until it is."
   ]
  },
  {
   "cell_type": "code",
   "execution_count": 13,
   "metadata": {},
   "outputs": [
    {
     "name": "stdout",
     "output_type": "stream",
     "text": [
      "Choose your move: rock\n"
     ]
    }
   ],
   "source": [
    "def player_move():\n",
    "    global player\n",
    "    player = input(\"Choose your move: \")\n",
    "    if player not in gestures:\n",
    "        return player_move()\n",
    "player_move()"
   ]
  },
  {
   "cell_type": "markdown",
   "metadata": {},
   "source": [
    "#### 8. Define a function that checks who won a round. \n",
    "The function should return 0 if there is a tie, 1 if the computer wins and 2 if the player wins."
   ]
  },
  {
   "cell_type": "code",
   "execution_count": null,
   "metadata": {},
   "outputs": [],
   "source": [
    "def compare(player, cpu):\n",
    "    if player == cpu:\n",
    "        return 0\n",
    "    elif player == gestures[1]:\n",
    "        if cpu == gestures[2]:\n",
    "            return 1\n",
    "        elif cpu == gestures[0]:\n",
    "            return 2\n",
    "    elif player == gestures[0]:\n",
    "        if cpu == gestures[1]:\n",
    "            return 1\n",
    "        elif cpu == gestures[2]:\n",
    "            return 2\n",
    "    elif player == gestures[2]:\n",
    "        if cpu == gestures[0]:\n",
    "            return 1\n",
    "        elif cpu == gestures[1]:\n",
    "            return 2\n",
    "compare(player, cpu)"
   ]
  },
  {
   "cell_type": "markdown",
   "metadata": {},
   "source": [
    "#### 9. Define a function that prints the choice of the computer, the choice of the player and a message that announces who won the current round. \n",
    "You should also use this function to update the variables that count the number of rounds that the computer and the player have won. The score of the winner increases by one point. If there is a tie, the score does not increase."
   ]
  },
  {
   "cell_type": "code",
   "execution_count": null,
   "metadata": {},
   "outputs": [],
   "source": [
    "def game_winner():\n",
    "    global cpu_score\n",
    "    global player_score\n",
    "    cpu_score = 0\n",
    "    player_score = 0\n",
    "    print(\"The computer choice was {}.\".format(cpu))\n",
    "    print(\"Your choice was {}.\".format(player))\n",
    "    if compare(player, cpu) == 0:\n",
    "        print(\"It's a Tie!\")\n",
    "    elif compare(player, cpu) == 1:\n",
    "        cpu_score += 1\n",
    "        print(\"Computer winn!\")\n",
    "    elif compare(player, cpu) == 2:\n",
    "        player_score += 1\n",
    "        print(\"You winn!\")\n",
    "game_winner()"
   ]
  },
  {
   "cell_type": "markdown",
   "metadata": {},
   "source": [
    "#### 10. Now it's time to code the execution of the game using the functions and variables you defined above. \n",
    "\n",
    "First, create a loop structure that repeats while no player reaches the minimum score necessary to win and the number of rounds is less than the maximum number of rounds to play in a game.  \n",
    "\n",
    "Inside the loop, use the functions and variables above to create the execution of a round: ask for the player's choice, generate the random choice of the computer, show the round results, update the scores, etc. "
   ]
  },
  {
   "cell_type": "code",
   "execution_count": 14,
   "metadata": {},
   "outputs": [
    {
     "name": "stdout",
     "output_type": "stream",
     "text": [
      "===============================================================\n",
      "Let's play! The rules are simple:\n",
      "Scissors cuts Paper, Paper covers Rock, Rock crushes Scissors!\n",
      "Chose between paper, rock and scissors to play.\n",
      "===============================================================\n",
      "How many rounds do you want to play? Please enter an odd number: 3\n",
      "Choose your move: rock\n",
      "The computer choice was scissors and your choice was rock.\n",
      "You winn!\n",
      "Your score is: 1\n",
      "The computer score is: 0\n",
      "Choose your move: paper\n",
      "The computer choice was rock and your choice was paper.\n",
      "You winn!\n",
      "Your score is: 2\n",
      "The computer score is: 0\n",
      "========================= Final score! =========================\n",
      "You made 2 points and the computer made 0 points.\n",
      "You won the game!\n"
     ]
    }
   ],
   "source": [
    "from random import choice\n",
    "print(\"=\" * 63)\n",
    "print(\"Let's play! The rules are simple:\")\n",
    "print(\"Scissors cuts Paper, Paper covers Rock, Rock crushes Scissors!\")\n",
    "print(\"Chose between paper, rock and scissors to play.\")\n",
    "print(\"=\" * 63)\n",
    "gestures = [\"rock\", \"paper\", \"scissors\"]\n",
    "p_rounds = 0\n",
    "player_score = 0\n",
    "cpu_score = 0\n",
    "n_rounds = int(input(\"How many rounds do you want to play? Please enter an odd number: \"))\n",
    "if n_rounds % 2 == 0:\n",
    "    n_rounds = int(input(\"Please enter an odd number: \"))\n",
    "rounds_to_winn = n_rounds // 2 + 1\n",
    "while p_rounds < n_rounds and player_score < rounds_to_winn and cpu_score < rounds_to_winn:\n",
    "    p_rounds += 1\n",
    "    def cpu_move():\n",
    "        global cpu\n",
    "        cpu = choice(gestures)\n",
    "    cpu_move()\n",
    "    def player_move():\n",
    "        global player\n",
    "        player = input(\"Choose your move: \")\n",
    "        if player not in gestures:\n",
    "            return player_move()\n",
    "    player_move()\n",
    "    def compare(player, cpu):\n",
    "        if player == cpu:\n",
    "            return 0\n",
    "        elif player == gestures[1]:\n",
    "            if cpu == gestures[2]:\n",
    "                return 1\n",
    "            elif cpu == gestures[0]:\n",
    "                return 2\n",
    "        elif player == gestures[0]:\n",
    "            if cpu == gestures[1]:\n",
    "                return 1\n",
    "            elif cpu == gestures[2]:\n",
    "                return 2\n",
    "        elif player == gestures[2]:\n",
    "            if cpu == gestures[0]:\n",
    "                return 1\n",
    "            elif cpu == gestures[1]:\n",
    "                return 2\n",
    "    compare(player, cpu)\n",
    "    def game_winner():\n",
    "        global cpu_score\n",
    "        global player_score\n",
    "        print(\"The computer choice was {} and your choice was {}.\".format(cpu, player))\n",
    "        if compare(player, cpu) == 0:\n",
    "            print(\"It's a Tie!\")\n",
    "        elif compare(player, cpu) == 1:\n",
    "            cpu_score += 1\n",
    "            print(\"Computer winn!\")\n",
    "        elif compare(player, cpu) == 2:\n",
    "            player_score += 1\n",
    "            print(\"You winn!\")\n",
    "        print(\"Your score is:\", player_score)\n",
    "        print(\"The computer score is:\", cpu_score)\n",
    "    game_winner()\n",
    "print(\"=\" * 25, \"Final score!\", \"=\" * 25)\n",
    "print(\"You made {} points and the computer made {} points.\".format(player_score, cpu_score))\n",
    "if player_score == cpu_score:\n",
    "    print(\"Is a tie!\")\n",
    "elif player_score < cpu_score:\n",
    "    print(\"Computer won the game!\")\n",
    "else:\n",
    "    print(\"You won the game!\")"
   ]
  },
  {
   "cell_type": "markdown",
   "metadata": {},
   "source": [
    "#### 11. Print the winner of the game based on who won more rounds.\n",
    "Remember that the game might be tied. "
   ]
  },
  {
   "cell_type": "code",
   "execution_count": null,
   "metadata": {},
   "outputs": [],
   "source": [
    "print(\"=\" * 25, \"Final score!\", \"=\" * 25)\n",
    "print(\"You made {} points and the computer made {} points.\".format(player_score, cpu_score))\n",
    "if player_score == cpu_score:\n",
    "    print(\"Is a tie!\")\n",
    "elif player_score < cpu_score:\n",
    "    print(\"Computer won the game!\")\n",
    "else:\n",
    "    print(\"You won the game!\")"
   ]
  },
  {
   "cell_type": "markdown",
   "metadata": {},
   "source": [
    "# Bonus: Rock, Paper, Scissors, Lizard & Spock\n",
    "![](images/rpsls.jpg)\n",
    "\n",
    "In this challenge, you need to improve the previous game by adding two new options. To know more about the rules of the improved version of rock, paper, scissors, check this [link](http://www.samkass.com/theories/RPSSL.html). \n",
    "\n",
    "In addition, you will also need to improve how the game interacts with the player: the number of rounds to play, which must be an odd number, will be requested to the user until a valid number is entered. Define a new function to make that request.\n",
    "\n",
    "**Hint**: Try to reuse the code that you already coded in the previous challenge. If your code is efficient, this bonus will only consist of simple modifications to the original game."
   ]
  },
  {
   "cell_type": "code",
   "execution_count": null,
   "metadata": {},
   "outputs": [],
   "source": [
    "from random import choice\n",
    "print(\"=\" * 63)\n",
    "print(\"Let's play! The rules are simple:\")\n",
    "print(\"Scissors cuts Paper, Paper covers Rock, Rock crushes Lizard, \\nLizard poisons Spock, Spock smashes Scissors, Scissors decapitates Lizard, \\nLizard eats Paper, Paper disproves Spock, Spock vaporizes Rock and Rock crushes Scissors!\")\n",
    "print(\"Chose between paper, rock and scissors to play.\")\n",
    "print(\"=\" * 63)\n",
    "gestures = [\"rock\", \"paper\", \"scissors\", \"lizard\", \"spock\"]\n",
    "p_rounds = 0\n",
    "player_score = 0\n",
    "cpu_score = 0\n",
    "n_rounds = int(input(\"How many rounds do you want to play? Please enter an odd number: \"))\n",
    "if n_rounds % 2 == 0:\n",
    "    n_rounds = int(input(\"Please enter an odd number: \"))\n",
    "rounds_to_winn = n_rounds // 2 + 1\n",
    "while p_rounds < n_rounds and player_score < rounds_to_winn and cpu_score < rounds_to_winn:\n",
    "    p_rounds += 1\n",
    "    def cpu_move():\n",
    "        global cpu\n",
    "        cpu = choice(gestures)\n",
    "    cpu_move()\n",
    "    def player_move():\n",
    "        global player\n",
    "        player = input(\"Choose your move: \")\n",
    "        if player not in gestures:\n",
    "            return player_move()\n",
    "    player_move()\n",
    "    def compare(player, cpu):\n",
    "        if player == cpu:\n",
    "            return 0\n",
    "        elif player == gestures[1]:\n",
    "            if cpu == gestures[2] or cpu == gestures[3]:\n",
    "                return 1\n",
    "            elif cpu == gestures[0] or cpu == gestures[4]:\n",
    "                return 2\n",
    "            else:\n",
    "                return 0\n",
    "        elif player == gestures[0]:\n",
    "            if cpu == gestures[1] or cpu == gestures[4]:\n",
    "                return 1\n",
    "            elif cpu == gestures[2] or cpu == gestures[3]:\n",
    "                return 2\n",
    "            else:\n",
    "                return 0\n",
    "        elif player == gestures[2]:\n",
    "            if cpu == gestures[0] or cpu == gestures[4]:\n",
    "                return 1\n",
    "            elif cpu == gestures[1] or cpu == gestures[3]:\n",
    "                return 2\n",
    "            else:\n",
    "                return 0\n",
    "        elif player == gestures[3]:\n",
    "            if cpu == gestures[0] or cpu == gestures[2]:\n",
    "                return 1\n",
    "            elif cpu == gestures[1] or cpu == gestures[4]:\n",
    "                return 2\n",
    "            else:\n",
    "                return 0\n",
    "        elif player == gestures[4]:\n",
    "            if cpu == gestures[1] or cpu == gestures[3]:\n",
    "                return 1\n",
    "            elif cpu == gestures[2] or cpu == gestures[0]:\n",
    "                return 2\n",
    "            else:\n",
    "                return 0\n",
    "    compare(player, cpu)\n",
    "    def game_winner():\n",
    "        global cpu_score\n",
    "        global player_score\n",
    "        print(\"The computer choice was {} and your choice was {}.\".format(cpu, player))\n",
    "        if compare(player, cpu) == 0:\n",
    "            print(\"It's a Tie!\")\n",
    "        elif compare(player, cpu) == 1:\n",
    "            cpu_score += 1\n",
    "            print(\"Computer winn!\")\n",
    "        elif compare(player, cpu) == 2:\n",
    "            player_score += 1\n",
    "            print(\"You winn!\")\n",
    "        print(\"Your score is:\", player_score)\n",
    "        print(\"The computer score is:\", cpu_score)\n",
    "    game_winner()\n",
    "print(\"=\" * 25, \"Final score!\", \"=\" * 25)\n",
    "print(\"You made {} points and the computer made {} points.\".format(player_score, cpu_score))\n",
    "if player_score == cpu_score:\n",
    "    print(\"Is a tie!\")\n",
    "elif player_score < cpu_score:\n",
    "    print(\"Computer won the game!\")\n",
    "else:\n",
    "    print(\"You won the game!\")"
   ]
  }
 ],
 "metadata": {
  "kernelspec": {
   "display_name": "Python 3",
   "language": "python",
   "name": "python3"
  },
  "language_info": {
   "codemirror_mode": {
    "name": "ipython",
    "version": 3
   },
   "file_extension": ".py",
   "mimetype": "text/x-python",
   "name": "python",
   "nbconvert_exporter": "python",
   "pygments_lexer": "ipython3",
   "version": "3.7.4"
  }
 },
 "nbformat": 4,
 "nbformat_minor": 2
}
